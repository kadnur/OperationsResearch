{
  "nbformat": 4,
  "nbformat_minor": 0,
  "metadata": {
    "colab": {
      "name": "MILP-HubLocation_NetworkOptimization.ipynb",
      "provenance": [],
      "collapsed_sections": [],
      "toc_visible": true,
      "include_colab_link": true
    },
    "kernelspec": {
      "name": "python3",
      "display_name": "Python 3"
    },
    "language_info": {
      "name": "python"
    }
  },
  "cells": [
    {
      "cell_type": "markdown",
      "metadata": {
        "id": "view-in-github",
        "colab_type": "text"
      },
      "source": [
        "<a href=\"https://colab.research.google.com/github/mikeguzman1294/OperationsResearch/blob/main/MILP_HubLocation_NetworkOptimization.ipynb\" target=\"_parent\"><img src=\"https://colab.research.google.com/assets/colab-badge.svg\" alt=\"Open In Colab\"/></a>"
      ]
    },
    {
      "cell_type": "markdown",
      "source": [
        "# MILP - HUB Location **Optimization**"
      ],
      "metadata": {
        "id": "uo79vVLgM2ly"
      }
    },
    {
      "cell_type": "markdown",
      "source": [
        "## Implementation of the MILP solver"
      ],
      "metadata": {
        "id": "YZncVzu5NyXc"
      }
    },
    {
      "cell_type": "markdown",
      "source": [
        "### Prepare the Environment and Data"
      ],
      "metadata": {
        "id": "Cqwh0QUz1n3O"
      }
    },
    {
      "cell_type": "code",
      "source": [
        "# Clone the repo containing the dataset\n",
        "!git clone -l -s https://github.com/mikeguzman1294/OperationsResearch.git cloned-repo\n",
        "%cd cloned-repo/Datasets"
      ],
      "metadata": {
        "colab": {
          "base_uri": "https://localhost:8080/"
        },
        "id": "S05YfsQVY5Oy",
        "outputId": "59777dc0-f21e-4ee6-a048-181c8eaafb18"
      },
      "execution_count": 70,
      "outputs": [
        {
          "output_type": "stream",
          "name": "stdout",
          "text": [
            "Cloning into 'cloned-repo'...\n",
            "warning: --local is ignored\n",
            "remote: Enumerating objects: 37, done.\u001b[K\n",
            "remote: Counting objects: 100% (37/37), done.\u001b[K\n",
            "remote: Compressing objects: 100% (36/36), done.\u001b[K\n",
            "remote: Total 37 (delta 12), reused 7 (delta 0), pack-reused 0\u001b[K\n",
            "Unpacking objects: 100% (37/37), done.\n",
            "/content/cloned-repo/Datasets/cloned-repo/Datasets/cloned-repo/Datasets/cloned-repo/Datasets\n"
          ]
        }
      ]
    },
    {
      "cell_type": "code",
      "source": [
        "# Install pulp\n",
        "!pip install pulp"
      ],
      "metadata": {
        "colab": {
          "base_uri": "https://localhost:8080/"
        },
        "id": "4vLZoRoafAQF",
        "outputId": "76003c25-3ce0-4e63-93e5-74468aa4644a"
      },
      "execution_count": 71,
      "outputs": [
        {
          "output_type": "stream",
          "name": "stdout",
          "text": [
            "Looking in indexes: https://pypi.org/simple, https://us-python.pkg.dev/colab-wheels/public/simple/\n",
            "Requirement already satisfied: pulp in /usr/local/lib/python3.7/dist-packages (2.6.0)\n"
          ]
        }
      ]
    },
    {
      "cell_type": "code",
      "source": [
        "# Import Required Libraries\n",
        "import pandas as pd\n",
        "from pulp import *"
      ],
      "metadata": {
        "id": "jC1Qvf4ddoME"
      },
      "execution_count": 72,
      "outputs": []
    },
    {
      "cell_type": "code",
      "source": [
        "# Define the path for importing the dataset\n",
        "InputData = 'InputDataHubSmallInstance.xlsx'\n",
        "\n",
        "# Define a function to extract the information from the dataset\n",
        "def read_excel_data(filename, sheet_name):\n",
        "  data = pd.read_excel(filename, sheet_name=sheet_name, header=None)\n",
        "  values = data.values\n",
        "  if min(values.shape) == 1:  # This If is to make the code insensitive to column-wise or row-wise expression #\n",
        "      if values.shape[0] == 1:\n",
        "          values = values.tolist()\n",
        "      else:\n",
        "          values = values.transpose()\n",
        "          values = values.tolist()\n",
        "      return values[0]        \n",
        "  else:\n",
        "      data_dict = {}\n",
        "      if min(values.shape) == 2:  # For single-dimension parameters in Excel\n",
        "          if values.shape[0] == 2:\n",
        "              for i in range(values.shape[1]):\n",
        "                  data_dict[i+1] = values[1][i]\n",
        "          else:\n",
        "              for i in range(values.shape[0]):\n",
        "                  data_dict[i+1] = values[i][1]\n",
        "             \n",
        "      else:  # For two-dimension (matrix) parameters in Excel\n",
        "          for i in range(values.shape[0]):\n",
        "              for j in range(values.shape[1]):\n",
        "                  data_dict[(i+1, j+1)] = values[i][j]\n",
        "      return data_dict"
      ],
      "metadata": {
        "id": "7Kw2xH7HYjDB"
      },
      "execution_count": 73,
      "outputs": []
    },
    {
      "cell_type": "code",
      "source": [
        "# NodeNum sheet contains the number of nodes in the network\n",
        "# Since it only contains 1 element the function treats it as one-dimensional array (list)\n",
        "# First and only index is retrieved to just save an integer value\n",
        "node_num = read_excel_data(InputData, \"NodeNum\")[0]\n",
        "\n",
        "# The sets of the function can be built out of this information\n",
        "# Create the set of nodes\n",
        "set_nodes = list(range(1,node_num+1))\n",
        "print(set_nodes)"
      ],
      "metadata": {
        "colab": {
          "base_uri": "https://localhost:8080/"
        },
        "id": "SlDJuqyrv3j9",
        "outputId": "dea739d6-4584-443a-d68c-42984e500121"
      },
      "execution_count": 74,
      "outputs": [
        {
          "output_type": "stream",
          "name": "stdout",
          "text": [
            "[1, 2, 3, 4, 5, 6, 7, 8]\n"
          ]
        }
      ]
    },
    {
      "cell_type": "code",
      "source": [
        "# Fixed cost of locating a hub at node \n",
        "fix_cost = read_excel_data(InputData, \"fixCost(fk)\")\n",
        "print(\"FixCost: \", fix_cost)"
      ],
      "metadata": {
        "colab": {
          "base_uri": "https://localhost:8080/"
        },
        "id": "yjjCO-LtvRX_",
        "outputId": "149db703-d21c-4065-8db8-c4e936eeb064"
      },
      "execution_count": 75,
      "outputs": [
        {
          "output_type": "stream",
          "name": "stdout",
          "text": [
            "FixCost:  [325478, 420241, 324187, 324869, 532481, 387526, 334862, 388719]\n"
          ]
        }
      ]
    },
    {
      "cell_type": "code",
      "source": [
        "# Capacity of hub k\n",
        "cap = read_excel_data(InputData, \"Cap(ckmax)\")\n",
        "print(\"Cap: \", cap)"
      ],
      "metadata": {
        "colab": {
          "base_uri": "https://localhost:8080/"
        },
        "id": "AIaNFQG5vkce",
        "outputId": "9a5d4ee8-6db9-4b28-b68a-415b07cb2fec"
      },
      "execution_count": 76,
      "outputs": [
        {
          "output_type": "stream",
          "name": "stdout",
          "text": [
            "Cap:  [95231, 137521, 62418, 61486, 83248, 131752, 63486, 98871]\n"
          ]
        }
      ]
    },
    {
      "cell_type": "code",
      "source": [
        "# NodeNum sheet contains the Hub-to-hub discount factor (0 < α < 1)\n",
        "# Since it only contains 1 element the function treats it as one-dimensional array (list)\n",
        "# First and only index is retrieved to just save an integer value\n",
        "alpha = read_excel_data(InputData, \"alpha\")[0]\n",
        "print(\"Alpha: \", alpha)"
      ],
      "metadata": {
        "colab": {
          "base_uri": "https://localhost:8080/"
        },
        "id": "JF2pCyxfwFg9",
        "outputId": "2f46e0cb-e70c-49ea-f262-7fa5cb071c51"
      },
      "execution_count": 77,
      "outputs": [
        {
          "output_type": "stream",
          "name": "stdout",
          "text": [
            "Alpha:  0.65\n"
          ]
        }
      ]
    },
    {
      "cell_type": "code",
      "source": [
        "# Variable transfer cost of flow through the link from node i to node j\n",
        "var_cost = read_excel_data(InputData, \"varCost(cij)\")\n",
        "print(\"VarCost: \", var_cost)"
      ],
      "metadata": {
        "colab": {
          "base_uri": "https://localhost:8080/"
        },
        "id": "nmFg0Njrq1Zq",
        "outputId": "cab32dcb-5c11-43e1-f412-945bd23c389c"
      },
      "execution_count": 78,
      "outputs": [
        {
          "output_type": "stream",
          "name": "stdout",
          "text": [
            "VarCost:  {(1, 1): 0, (1, 2): 32, (1, 3): 29, (1, 4): 30, (1, 5): 10, (1, 6): 15, (1, 7): 28, (1, 8): 17, (2, 1): 32, (2, 2): 0, (2, 3): 16, (2, 4): 33, (2, 5): 38, (2, 6): 25, (2, 7): 17, (2, 8): 23, (3, 1): 29, (3, 2): 16, (3, 3): 0, (3, 4): 32, (3, 5): 40, (3, 6): 27, (3, 7): 24, (3, 8): 26, (4, 1): 30, (4, 2): 33, (4, 3): 32, (4, 4): 0, (4, 5): 19, (4, 6): 23, (4, 7): 31, (4, 8): 27, (5, 1): 10, (5, 2): 38, (5, 3): 40, (5, 4): 19, (5, 5): 0, (5, 6): 33, (5, 7): 17, (5, 8): 32, (6, 1): 15, (6, 2): 25, (6, 3): 27, (6, 4): 23, (6, 5): 33, (6, 6): 0, (6, 7): 38, (6, 8): 10, (7, 1): 28, (7, 2): 17, (7, 3): 24, (7, 4): 31, (7, 5): 17, (7, 6): 38, (7, 7): 0, (7, 8): 30, (8, 1): 17, (8, 2): 23, (8, 3): 26, (8, 4): 27, (8, 5): 32, (8, 6): 10, (8, 7): 30, (8, 8): 0}\n"
          ]
        }
      ]
    },
    {
      "cell_type": "code",
      "source": [
        "# Amount of flow from node i to node j\n",
        "flow = read_excel_data(InputData, \"flow(wij)\")\n",
        "print(\"flow: \", flow)"
      ],
      "metadata": {
        "colab": {
          "base_uri": "https://localhost:8080/"
        },
        "id": "fkXPdXcIpGIF",
        "outputId": "8fcd505d-1c1e-4218-a78a-ea22351c63da"
      },
      "execution_count": 79,
      "outputs": [
        {
          "output_type": "stream",
          "name": "stdout",
          "text": [
            "flow:  {(1, 1): 0, (1, 2): 3032, (1, 3): 1815, (1, 4): 3364, (1, 5): 2969, (1, 6): 1698, (1, 7): 2611, (1, 8): 3597, (2, 1): 1276, (2, 2): 0, (2, 3): 3371, (2, 4): 2437, (2, 5): 1371, (2, 6): 3094, (2, 7): 3700, (2, 8): 3456, (3, 1): 4022, (3, 2): 3984, (3, 3): 0, (3, 4): 3360, (3, 5): 2420, (3, 6): 4107, (3, 7): 2176, (3, 8): 3091, (4, 1): 1719, (4, 2): 3689, (4, 3): 3401, (4, 4): 0, (4, 5): 1905, (4, 6): 2831, (4, 7): 2269, (4, 8): 4196, (5, 1): 3902, (5, 2): 3548, (5, 3): 3174, (5, 4): 2464, (5, 5): 0, (5, 6): 4044, (5, 7): 3839, (5, 8): 2644, (6, 1): 3474, (6, 2): 3345, (6, 3): 1694, (6, 4): 1822, (6, 5): 4148, (6, 6): 0, (6, 7): 1829, (6, 8): 2749, (7, 1): 2978, (7, 2): 3627, (7, 3): 3324, (7, 4): 3104, (7, 5): 4020, (7, 6): 4194, (7, 7): 0, (7, 8): 2450, (8, 1): 3535, (8, 2): 2665, (8, 3): 2485, (8, 4): 2986, (8, 5): 3930, (8, 6): 1686, (8, 7): 4015, (8, 8): 0}\n"
          ]
        }
      ]
    },
    {
      "cell_type": "code",
      "source": [
        "# Computation of Oi\n",
        "# Oi stands for total flow originating from node i\n",
        "oi = [0] * (len(set_nodes))\n",
        "\n",
        "for row in range(1, len(set_nodes)+1):\n",
        "  for column in range(1, len(set_nodes)+1):\n",
        "    oi[row-1] += flow[(row, column)]\n",
        "\n",
        "print(oi)\n"
      ],
      "metadata": {
        "colab": {
          "base_uri": "https://localhost:8080/"
        },
        "id": "CumWiRQpUEhQ",
        "outputId": "e4f84eba-0fe0-46c0-a178-1f97d86df2b9"
      },
      "execution_count": 80,
      "outputs": [
        {
          "output_type": "stream",
          "name": "stdout",
          "text": [
            "[19086, 18705, 23160, 20010, 23615, 19061, 23697, 21302]\n"
          ]
        }
      ]
    },
    {
      "cell_type": "code",
      "source": [
        "# Computation of Di\n",
        "# Di standa for total flow destination in node i\n",
        "di = [0] * (len(set_nodes))\n",
        "\n",
        "for column in range(1, len(set_nodes)+1):\n",
        "  for row in range(1, len(set_nodes)+1):\n",
        "    di[column-1] += flow[(row,column)]\n",
        "\n",
        "print(di)"
      ],
      "metadata": {
        "id": "cIvW8kOjVUPW",
        "colab": {
          "base_uri": "https://localhost:8080/"
        },
        "outputId": "b529fffb-8e71-4a6b-b194-d3d183ba116e"
      },
      "execution_count": 81,
      "outputs": [
        {
          "output_type": "stream",
          "name": "stdout",
          "text": [
            "[20906, 23890, 19264, 19537, 20763, 21654, 20439, 22183]\n"
          ]
        }
      ]
    },
    {
      "cell_type": "markdown",
      "source": [
        "### Create the Model"
      ],
      "metadata": {
        "id": "qzaM2M01GOLg"
      }
    },
    {
      "cell_type": "markdown",
      "source": [
        "#### Decision Variables and Objective Function"
      ],
      "metadata": {
        "id": "rUg_MyJJHXtz"
      }
    },
    {
      "cell_type": "code",
      "source": [
        "# Define decision variables\n",
        "y_var = LpVariable.dicts('y', (set_nodes, set_nodes), lowBound=0, upBound=1, cat='Binary')\n",
        "#print(y_var)\n",
        "\n",
        "z_var = LpVariable.dicts('z', (set_nodes, set_nodes), lowBound=0, upBound=1, cat='Binary')\n",
        "#print(z_var)\n",
        "\n",
        "x_var = LpVariable.dicts('x', (set_nodes, set_nodes, set_nodes), lowBound=0, cat='Continuous')\n",
        "#print(x_var)"
      ],
      "metadata": {
        "id": "qkmhKg38q01C"
      },
      "execution_count": 82,
      "outputs": []
    },
    {
      "cell_type": "code",
      "source": [
        "# Setting the Problem\n",
        "hub_problem = LpProblem(\"Capacitated_Facility_Location_Problem\", LpMinimize)"
      ],
      "metadata": {
        "id": "b7TggoytfOT1"
      },
      "execution_count": 83,
      "outputs": []
    },
    {
      "cell_type": "code",
      "source": [
        "# Defining objective function\n",
        "# We add the fixed cost\n",
        "hub_problem += lpSum(fix_cost[k-1] * z_var[k][k] for k in set_nodes) + \\\n",
        "               lpSum( ( (var_cost[(i,k)] * oi[i-1])  + (var_cost[(k,i)] * di[i-1])  ) * z_var[i][k]  for i in set_nodes for k in set_nodes) + \\\n",
        "               lpSum( ( (alpha*var_cost[(k,l)]*x_var[i][k][l] for i in set_nodes for k in set_nodes for l in set_nodes if l != k) ) )"
      ],
      "metadata": {
        "id": "VGdkpeYOlALU"
      },
      "execution_count": 84,
      "outputs": []
    },
    {
      "cell_type": "markdown",
      "source": [
        "#### Adding the constraints"
      ],
      "metadata": {
        "id": "BaEoIqJjGisH"
      }
    },
    {
      "cell_type": "code",
      "source": [
        "# Constraint 1\n",
        "for i in set_nodes:\n",
        "  hub_problem += lpSum(z_var[i][k] for k in set_nodes) == 1"
      ],
      "metadata": {
        "id": "FlyXZSoM48Du"
      },
      "execution_count": 85,
      "outputs": []
    },
    {
      "cell_type": "code",
      "source": [
        "# Constraint 2\n",
        "for k in set_nodes:\n",
        "  for l in set_nodes:\n",
        "    if l > k:\n",
        "      hub_problem += z_var[k][l] + y_var[k][l] <= z_var[l][l]\n",
        "      hub_problem += z_var[l][k] + y_var[k][l] <= z_var[k][k]"
      ],
      "metadata": {
        "id": "IG9D2Y9tGoS-"
      },
      "execution_count": 86,
      "outputs": []
    },
    {
      "cell_type": "code",
      "source": [
        "# Constraint 3\n",
        "for i in set_nodes:\n",
        "  for k in set_nodes:\n",
        "    for l in set_nodes:\n",
        "      if l > k:\n",
        "        hub_problem += x_var[i][k][l] + x_var[i][l][k] <= oi[i-1]*y_var[k][l]"
      ],
      "metadata": {
        "id": "I11WEt7RGuyw"
      },
      "execution_count": 87,
      "outputs": []
    },
    {
      "cell_type": "code",
      "source": [
        "# Constraint 4\n",
        "for i in set_nodes:\n",
        "  for k in set_nodes:\n",
        "    if i != k:\n",
        "      hub_problem += oi[i-1] * z_var[i][k] + lpSum( x_var[i][l][k] for l in set_nodes if l != k) == \\\n",
        "                     lpSum( x_var[i][k][l] for l in set_nodes if l != k) + lpSum( flow[(i,l)] * z_var[l][k] for l in set_nodes)"
      ],
      "metadata": {
        "id": "Wlw2c2KCGzyE"
      },
      "execution_count": 88,
      "outputs": []
    },
    {
      "cell_type": "code",
      "source": [
        "# Constraint 5\n",
        "for k in set_nodes:\n",
        "  hub_problem += lpSum( (x_var[i][l][k] for i in set_nodes for l in set_nodes) ) + lpSum(oi[i-1] * z_var[i][k] for i in set_nodes) <= cap[k-1]"
      ],
      "metadata": {
        "id": "ywDH6KrR-045"
      },
      "execution_count": 89,
      "outputs": []
    },
    {
      "cell_type": "code",
      "source": [
        "# Constraint 6\n",
        "hub_problem += lpSum( (y_var[k][l] for k in set_nodes for l in set_nodes) ) == lpSum(z_var[k][k] for k in set_nodes) - 1"
      ],
      "metadata": {
        "id": "uuAJsexZG6m8"
      },
      "execution_count": 90,
      "outputs": []
    },
    {
      "cell_type": "markdown",
      "source": [
        "#### Solving the model with default solver of PuLP"
      ],
      "metadata": {
        "id": "i_Tsqu_ZHThW"
      }
    },
    {
      "cell_type": "code",
      "source": [
        "# The problem is solved using PuLP's choice of Solver\n",
        "# (the default solver is Coin Cbc)\n",
        "hub_problem.solve()"
      ],
      "metadata": {
        "colab": {
          "base_uri": "https://localhost:8080/"
        },
        "id": "LvVrSnY8HSCh",
        "outputId": "1290f6b2-1223-4782-d292-8b3cd988e8e6"
      },
      "execution_count": 91,
      "outputs": [
        {
          "output_type": "execute_result",
          "data": {
            "text/plain": [
              "1"
            ]
          },
          "metadata": {},
          "execution_count": 91
        }
      ]
    },
    {
      "cell_type": "code",
      "source": [
        "# The status of the solution is printed to the screen\n",
        "print(\"Status:\", LpStatus[hub_problem.status])\n",
        "\n",
        "# The optimal value of the decision variables and the\n",
        "# optimised objective function value are printed to the screen\n",
        "for v in hub_problem.variables():\n",
        "    print(v.name, \"=\", v.varValue)\n",
        "\n",
        "print (\"\\nObjective value HUB Network Optimization Problem = \", value(hub_problem.objective))"
      ],
      "metadata": {
        "id": "fM3qjjLLITd8",
        "colab": {
          "base_uri": "https://localhost:8080/"
        },
        "outputId": "322dcdfa-2f72-4b00-abb2-b9c3d226ffbf"
      },
      "execution_count": 92,
      "outputs": [
        {
          "output_type": "stream",
          "name": "stdout",
          "text": [
            "Status: Optimal\n",
            "x_1_1_1 = 0.0\n",
            "x_1_1_2 = 0.0\n",
            "x_1_1_3 = 0.0\n",
            "x_1_1_4 = 0.0\n",
            "x_1_1_5 = 0.0\n",
            "x_1_1_6 = 16117.0\n",
            "x_1_1_7 = 0.0\n",
            "x_1_1_8 = 0.0\n",
            "x_1_2_1 = 0.0\n",
            "x_1_2_2 = 0.0\n",
            "x_1_2_3 = 0.0\n",
            "x_1_2_4 = 3364.0\n",
            "x_1_2_5 = 0.0\n",
            "x_1_2_6 = 0.0\n",
            "x_1_2_7 = 0.0\n",
            "x_1_2_8 = 0.0\n",
            "x_1_3_1 = 0.0\n",
            "x_1_3_2 = 0.0\n",
            "x_1_3_3 = 0.0\n",
            "x_1_3_4 = 0.0\n",
            "x_1_3_5 = 0.0\n",
            "x_1_3_6 = 0.0\n",
            "x_1_3_7 = 0.0\n",
            "x_1_3_8 = 0.0\n",
            "x_1_4_1 = 0.0\n",
            "x_1_4_2 = 0.0\n",
            "x_1_4_3 = 0.0\n",
            "x_1_4_4 = 0.0\n",
            "x_1_4_5 = 0.0\n",
            "x_1_4_6 = 0.0\n",
            "x_1_4_7 = 0.0\n",
            "x_1_4_8 = 0.0\n",
            "x_1_5_1 = 0.0\n",
            "x_1_5_2 = 0.0\n",
            "x_1_5_3 = 0.0\n",
            "x_1_5_4 = 0.0\n",
            "x_1_5_5 = 0.0\n",
            "x_1_5_6 = 0.0\n",
            "x_1_5_7 = 0.0\n",
            "x_1_5_8 = 0.0\n",
            "x_1_6_1 = 0.0\n",
            "x_1_6_2 = 10822.0\n",
            "x_1_6_3 = 0.0\n",
            "x_1_6_4 = 0.0\n",
            "x_1_6_5 = 0.0\n",
            "x_1_6_6 = 0.0\n",
            "x_1_6_7 = 0.0\n",
            "x_1_6_8 = 0.0\n",
            "x_1_7_1 = 0.0\n",
            "x_1_7_2 = 0.0\n",
            "x_1_7_3 = 0.0\n",
            "x_1_7_4 = 0.0\n",
            "x_1_7_5 = 0.0\n",
            "x_1_7_6 = 0.0\n",
            "x_1_7_7 = 0.0\n",
            "x_1_7_8 = 0.0\n",
            "x_1_8_1 = 0.0\n",
            "x_1_8_2 = 0.0\n",
            "x_1_8_3 = 0.0\n",
            "x_1_8_4 = 0.0\n",
            "x_1_8_5 = 0.0\n",
            "x_1_8_6 = 0.0\n",
            "x_1_8_7 = 0.0\n",
            "x_1_8_8 = 0.0\n",
            "x_2_1_1 = 0.0\n",
            "x_2_1_2 = 0.0\n",
            "x_2_1_3 = 0.0\n",
            "x_2_1_4 = 0.0\n",
            "x_2_1_5 = 0.0\n",
            "x_2_1_6 = 0.0\n",
            "x_2_1_7 = 0.0\n",
            "x_2_1_8 = 0.0\n",
            "x_2_2_1 = 0.0\n",
            "x_2_2_2 = 0.0\n",
            "x_2_2_3 = 0.0\n",
            "x_2_2_4 = 2437.0\n",
            "x_2_2_5 = 0.0\n",
            "x_2_2_6 = 9197.0\n",
            "x_2_2_7 = 0.0\n",
            "x_2_2_8 = 0.0\n",
            "x_2_3_1 = 0.0\n",
            "x_2_3_2 = 0.0\n",
            "x_2_3_3 = 0.0\n",
            "x_2_3_4 = 0.0\n",
            "x_2_3_5 = 0.0\n",
            "x_2_3_6 = 0.0\n",
            "x_2_3_7 = 0.0\n",
            "x_2_3_8 = 0.0\n",
            "x_2_4_1 = 0.0\n",
            "x_2_4_2 = 0.0\n",
            "x_2_4_3 = 0.0\n",
            "x_2_4_4 = 0.0\n",
            "x_2_4_5 = 0.0\n",
            "x_2_4_6 = 0.0\n",
            "x_2_4_7 = 0.0\n",
            "x_2_4_8 = 0.0\n",
            "x_2_5_1 = 0.0\n",
            "x_2_5_2 = 0.0\n",
            "x_2_5_3 = 0.0\n",
            "x_2_5_4 = 0.0\n",
            "x_2_5_5 = 0.0\n",
            "x_2_5_6 = 0.0\n",
            "x_2_5_7 = 0.0\n",
            "x_2_5_8 = 0.0\n",
            "x_2_6_1 = 2647.0\n",
            "x_2_6_2 = 0.0\n",
            "x_2_6_3 = 0.0\n",
            "x_2_6_4 = 0.0\n",
            "x_2_6_5 = 0.0\n",
            "x_2_6_6 = 0.0\n",
            "x_2_6_7 = 0.0\n",
            "x_2_6_8 = 0.0\n",
            "x_2_7_1 = 0.0\n",
            "x_2_7_2 = 0.0\n",
            "x_2_7_3 = 0.0\n",
            "x_2_7_4 = 0.0\n",
            "x_2_7_5 = 0.0\n",
            "x_2_7_6 = 0.0\n",
            "x_2_7_7 = 0.0\n",
            "x_2_7_8 = 0.0\n",
            "x_2_8_1 = 0.0\n",
            "x_2_8_2 = 0.0\n",
            "x_2_8_3 = 0.0\n",
            "x_2_8_4 = 0.0\n",
            "x_2_8_5 = 0.0\n",
            "x_2_8_6 = 0.0\n",
            "x_2_8_7 = 0.0\n",
            "x_2_8_8 = 0.0\n",
            "x_3_1_1 = 0.0\n",
            "x_3_1_2 = 0.0\n",
            "x_3_1_3 = 0.0\n",
            "x_3_1_4 = 0.0\n",
            "x_3_1_5 = 0.0\n",
            "x_3_1_6 = 0.0\n",
            "x_3_1_7 = 0.0\n",
            "x_3_1_8 = 0.0\n",
            "x_3_2_1 = 0.0\n",
            "x_3_2_2 = 0.0\n",
            "x_3_2_3 = 0.0\n",
            "x_3_2_4 = 3360.0\n",
            "x_3_2_5 = 0.0\n",
            "x_3_2_6 = 13640.0\n",
            "x_3_2_7 = 0.0\n",
            "x_3_2_8 = 0.0\n",
            "x_3_3_1 = 0.0\n",
            "x_3_3_2 = 0.0\n",
            "x_3_3_3 = 0.0\n",
            "x_3_3_4 = 0.0\n",
            "x_3_3_5 = 0.0\n",
            "x_3_3_6 = 0.0\n",
            "x_3_3_7 = 0.0\n",
            "x_3_3_8 = 0.0\n",
            "x_3_4_1 = 0.0\n",
            "x_3_4_2 = 0.0\n",
            "x_3_4_3 = 0.0\n",
            "x_3_4_4 = 0.0\n",
            "x_3_4_5 = 0.0\n",
            "x_3_4_6 = 0.0\n",
            "x_3_4_7 = 0.0\n",
            "x_3_4_8 = 0.0\n",
            "x_3_5_1 = 0.0\n",
            "x_3_5_2 = 0.0\n",
            "x_3_5_3 = 0.0\n",
            "x_3_5_4 = 0.0\n",
            "x_3_5_5 = 0.0\n",
            "x_3_5_6 = 0.0\n",
            "x_3_5_7 = 0.0\n",
            "x_3_5_8 = 0.0\n",
            "x_3_6_1 = 6442.0\n",
            "x_3_6_2 = 0.0\n",
            "x_3_6_3 = 0.0\n",
            "x_3_6_4 = 0.0\n",
            "x_3_6_5 = 0.0\n",
            "x_3_6_6 = 0.0\n",
            "x_3_6_7 = 0.0\n",
            "x_3_6_8 = 0.0\n",
            "x_3_7_1 = 0.0\n",
            "x_3_7_2 = 0.0\n",
            "x_3_7_3 = 0.0\n",
            "x_3_7_4 = 0.0\n",
            "x_3_7_5 = 0.0\n",
            "x_3_7_6 = 0.0\n",
            "x_3_7_7 = 0.0\n",
            "x_3_7_8 = 0.0\n",
            "x_3_8_1 = 0.0\n",
            "x_3_8_2 = 0.0\n",
            "x_3_8_3 = 0.0\n",
            "x_3_8_4 = 0.0\n",
            "x_3_8_5 = 0.0\n",
            "x_3_8_6 = 0.0\n",
            "x_3_8_7 = 0.0\n",
            "x_3_8_8 = 0.0\n",
            "x_4_1_1 = 0.0\n",
            "x_4_1_2 = 0.0\n",
            "x_4_1_3 = 0.0\n",
            "x_4_1_4 = 0.0\n",
            "x_4_1_5 = 0.0\n",
            "x_4_1_6 = 0.0\n",
            "x_4_1_7 = 0.0\n",
            "x_4_1_8 = 0.0\n",
            "x_4_2_1 = 0.0\n",
            "x_4_2_2 = 0.0\n",
            "x_4_2_3 = 0.0\n",
            "x_4_2_4 = 0.0\n",
            "x_4_2_5 = 0.0\n",
            "x_4_2_6 = 10651.0\n",
            "x_4_2_7 = 0.0\n",
            "x_4_2_8 = 0.0\n",
            "x_4_3_1 = 0.0\n",
            "x_4_3_2 = 0.0\n",
            "x_4_3_3 = 0.0\n",
            "x_4_3_4 = 0.0\n",
            "x_4_3_5 = 0.0\n",
            "x_4_3_6 = 0.0\n",
            "x_4_3_7 = 0.0\n",
            "x_4_3_8 = 0.0\n",
            "x_4_4_1 = 0.0\n",
            "x_4_4_2 = 20010.0\n",
            "x_4_4_3 = 0.0\n",
            "x_4_4_4 = 0.0\n",
            "x_4_4_5 = 0.0\n",
            "x_4_4_6 = 0.0\n",
            "x_4_4_7 = 0.0\n",
            "x_4_4_8 = 0.0\n",
            "x_4_5_1 = 0.0\n",
            "x_4_5_2 = 0.0\n",
            "x_4_5_3 = 0.0\n",
            "x_4_5_4 = 0.0\n",
            "x_4_5_5 = 0.0\n",
            "x_4_5_6 = 0.0\n",
            "x_4_5_7 = 0.0\n",
            "x_4_5_8 = 0.0\n",
            "x_4_6_1 = 3624.0\n",
            "x_4_6_2 = 0.0\n",
            "x_4_6_3 = 0.0\n",
            "x_4_6_4 = 0.0\n",
            "x_4_6_5 = 0.0\n",
            "x_4_6_6 = 0.0\n",
            "x_4_6_7 = 0.0\n",
            "x_4_6_8 = 0.0\n",
            "x_4_7_1 = 0.0\n",
            "x_4_7_2 = 0.0\n",
            "x_4_7_3 = 0.0\n",
            "x_4_7_4 = 0.0\n",
            "x_4_7_5 = 0.0\n",
            "x_4_7_6 = 0.0\n",
            "x_4_7_7 = 0.0\n",
            "x_4_7_8 = 0.0\n",
            "x_4_8_1 = 0.0\n",
            "x_4_8_2 = 0.0\n",
            "x_4_8_3 = 0.0\n",
            "x_4_8_4 = 0.0\n",
            "x_4_8_5 = 0.0\n",
            "x_4_8_6 = 0.0\n",
            "x_4_8_7 = 0.0\n",
            "x_4_8_8 = 0.0\n",
            "x_5_1_1 = 0.0\n",
            "x_5_1_2 = 0.0\n",
            "x_5_1_3 = 0.0\n",
            "x_5_1_4 = 0.0\n",
            "x_5_1_5 = 0.0\n",
            "x_5_1_6 = 19713.0\n",
            "x_5_1_7 = 0.0\n",
            "x_5_1_8 = 0.0\n",
            "x_5_2_1 = 0.0\n",
            "x_5_2_2 = 0.0\n",
            "x_5_2_3 = 0.0\n",
            "x_5_2_4 = 2464.0\n",
            "x_5_2_5 = 0.0\n",
            "x_5_2_6 = 0.0\n",
            "x_5_2_7 = 0.0\n",
            "x_5_2_8 = 0.0\n",
            "x_5_3_1 = 0.0\n",
            "x_5_3_2 = 0.0\n",
            "x_5_3_3 = 0.0\n",
            "x_5_3_4 = 0.0\n",
            "x_5_3_5 = 0.0\n",
            "x_5_3_6 = 0.0\n",
            "x_5_3_7 = 0.0\n",
            "x_5_3_8 = 0.0\n",
            "x_5_4_1 = 0.0\n",
            "x_5_4_2 = 0.0\n",
            "x_5_4_3 = 0.0\n",
            "x_5_4_4 = 0.0\n",
            "x_5_4_5 = 0.0\n",
            "x_5_4_6 = 0.0\n",
            "x_5_4_7 = 0.0\n",
            "x_5_4_8 = 0.0\n",
            "x_5_5_1 = 0.0\n",
            "x_5_5_2 = 0.0\n",
            "x_5_5_3 = 0.0\n",
            "x_5_5_4 = 0.0\n",
            "x_5_5_5 = 0.0\n",
            "x_5_5_6 = 0.0\n",
            "x_5_5_7 = 0.0\n",
            "x_5_5_8 = 0.0\n",
            "x_5_6_1 = 0.0\n",
            "x_5_6_2 = 13025.0\n",
            "x_5_6_3 = 0.0\n",
            "x_5_6_4 = 0.0\n",
            "x_5_6_5 = 0.0\n",
            "x_5_6_6 = 0.0\n",
            "x_5_6_7 = 0.0\n",
            "x_5_6_8 = 0.0\n",
            "x_5_7_1 = 0.0\n",
            "x_5_7_2 = 0.0\n",
            "x_5_7_3 = 0.0\n",
            "x_5_7_4 = 0.0\n",
            "x_5_7_5 = 0.0\n",
            "x_5_7_6 = 0.0\n",
            "x_5_7_7 = 0.0\n",
            "x_5_7_8 = 0.0\n",
            "x_5_8_1 = 0.0\n",
            "x_5_8_2 = 0.0\n",
            "x_5_8_3 = 0.0\n",
            "x_5_8_4 = 0.0\n",
            "x_5_8_5 = 0.0\n",
            "x_5_8_6 = 0.0\n",
            "x_5_8_7 = 0.0\n",
            "x_5_8_8 = 0.0\n",
            "x_6_1_1 = 0.0\n",
            "x_6_1_2 = 0.0\n",
            "x_6_1_3 = 0.0\n",
            "x_6_1_4 = 0.0\n",
            "x_6_1_5 = 0.0\n",
            "x_6_1_6 = 0.0\n",
            "x_6_1_7 = 0.0\n",
            "x_6_1_8 = 0.0\n",
            "x_6_2_1 = 0.0\n",
            "x_6_2_2 = 0.0\n",
            "x_6_2_3 = 0.0\n",
            "x_6_2_4 = 1822.0\n",
            "x_6_2_5 = 0.0\n",
            "x_6_2_6 = 0.0\n",
            "x_6_2_7 = 0.0\n",
            "x_6_2_8 = 0.0\n",
            "x_6_3_1 = 0.0\n",
            "x_6_3_2 = 0.0\n",
            "x_6_3_3 = 0.0\n",
            "x_6_3_4 = 0.0\n",
            "x_6_3_5 = 0.0\n",
            "x_6_3_6 = 0.0\n",
            "x_6_3_7 = 0.0\n",
            "x_6_3_8 = 0.0\n",
            "x_6_4_1 = 0.0\n",
            "x_6_4_2 = 0.0\n",
            "x_6_4_3 = 0.0\n",
            "x_6_4_4 = 0.0\n",
            "x_6_4_5 = 0.0\n",
            "x_6_4_6 = 0.0\n",
            "x_6_4_7 = 0.0\n",
            "x_6_4_8 = 0.0\n",
            "x_6_5_1 = 0.0\n",
            "x_6_5_2 = 0.0\n",
            "x_6_5_3 = 0.0\n",
            "x_6_5_4 = 0.0\n",
            "x_6_5_5 = 0.0\n",
            "x_6_5_6 = 0.0\n",
            "x_6_5_7 = 0.0\n",
            "x_6_5_8 = 0.0\n",
            "x_6_6_1 = 7622.0\n",
            "x_6_6_2 = 8690.0\n",
            "x_6_6_3 = 0.0\n",
            "x_6_6_4 = 0.0\n",
            "x_6_6_5 = 0.0\n",
            "x_6_6_6 = 0.0\n",
            "x_6_6_7 = 0.0\n",
            "x_6_6_8 = 0.0\n",
            "x_6_7_1 = 0.0\n",
            "x_6_7_2 = 0.0\n",
            "x_6_7_3 = 0.0\n",
            "x_6_7_4 = 0.0\n",
            "x_6_7_5 = 0.0\n",
            "x_6_7_6 = 0.0\n",
            "x_6_7_7 = 0.0\n",
            "x_6_7_8 = 0.0\n",
            "x_6_8_1 = 0.0\n",
            "x_6_8_2 = 0.0\n",
            "x_6_8_3 = 0.0\n",
            "x_6_8_4 = 0.0\n",
            "x_6_8_5 = 0.0\n",
            "x_6_8_6 = 0.0\n",
            "x_6_8_7 = 0.0\n",
            "x_6_8_8 = 0.0\n",
            "x_7_1_1 = 0.0\n",
            "x_7_1_2 = 0.0\n",
            "x_7_1_3 = 0.0\n",
            "x_7_1_4 = 0.0\n",
            "x_7_1_5 = 0.0\n",
            "x_7_1_6 = 0.0\n",
            "x_7_1_7 = 0.0\n",
            "x_7_1_8 = 0.0\n",
            "x_7_2_1 = 0.0\n",
            "x_7_2_2 = 0.0\n",
            "x_7_2_3 = 0.0\n",
            "x_7_2_4 = 3104.0\n",
            "x_7_2_5 = 0.0\n",
            "x_7_2_6 = 13642.0\n",
            "x_7_2_7 = 0.0\n",
            "x_7_2_8 = 0.0\n",
            "x_7_3_1 = 0.0\n",
            "x_7_3_2 = 0.0\n",
            "x_7_3_3 = 0.0\n",
            "x_7_3_4 = 0.0\n",
            "x_7_3_5 = 0.0\n",
            "x_7_3_6 = 0.0\n",
            "x_7_3_7 = 0.0\n",
            "x_7_3_8 = 0.0\n",
            "x_7_4_1 = 0.0\n",
            "x_7_4_2 = 0.0\n",
            "x_7_4_3 = 0.0\n",
            "x_7_4_4 = 0.0\n",
            "x_7_4_5 = 0.0\n",
            "x_7_4_6 = 0.0\n",
            "x_7_4_7 = 0.0\n",
            "x_7_4_8 = 0.0\n",
            "x_7_5_1 = 0.0\n",
            "x_7_5_2 = 0.0\n",
            "x_7_5_3 = 0.0\n",
            "x_7_5_4 = 0.0\n",
            "x_7_5_5 = 0.0\n",
            "x_7_5_6 = 0.0\n",
            "x_7_5_7 = 0.0\n",
            "x_7_5_8 = 0.0\n",
            "x_7_6_1 = 6998.0\n",
            "x_7_6_2 = 0.0\n",
            "x_7_6_3 = 0.0\n",
            "x_7_6_4 = 0.0\n",
            "x_7_6_5 = 0.0\n",
            "x_7_6_6 = 0.0\n",
            "x_7_6_7 = 0.0\n",
            "x_7_6_8 = 0.0\n",
            "x_7_7_1 = 0.0\n",
            "x_7_7_2 = 0.0\n",
            "x_7_7_3 = 0.0\n",
            "x_7_7_4 = 0.0\n",
            "x_7_7_5 = 0.0\n",
            "x_7_7_6 = 0.0\n",
            "x_7_7_7 = 0.0\n",
            "x_7_7_8 = 0.0\n",
            "x_7_8_1 = 0.0\n",
            "x_7_8_2 = 0.0\n",
            "x_7_8_3 = 0.0\n",
            "x_7_8_4 = 0.0\n",
            "x_7_8_5 = 0.0\n",
            "x_7_8_6 = 0.0\n",
            "x_7_8_7 = 0.0\n",
            "x_7_8_8 = 0.0\n",
            "x_8_1_1 = 0.0\n",
            "x_8_1_2 = 0.0\n",
            "x_8_1_3 = 0.0\n",
            "x_8_1_4 = 0.0\n",
            "x_8_1_5 = 0.0\n",
            "x_8_1_6 = 0.0\n",
            "x_8_1_7 = 0.0\n",
            "x_8_1_8 = 0.0\n",
            "x_8_2_1 = 0.0\n",
            "x_8_2_2 = 0.0\n",
            "x_8_2_3 = 0.0\n",
            "x_8_2_4 = 2986.0\n",
            "x_8_2_5 = 0.0\n",
            "x_8_2_6 = 0.0\n",
            "x_8_2_7 = 0.0\n",
            "x_8_2_8 = 0.0\n",
            "x_8_3_1 = 0.0\n",
            "x_8_3_2 = 0.0\n",
            "x_8_3_3 = 0.0\n",
            "x_8_3_4 = 0.0\n",
            "x_8_3_5 = 0.0\n",
            "x_8_3_6 = 0.0\n",
            "x_8_3_7 = 0.0\n",
            "x_8_3_8 = 0.0\n",
            "x_8_4_1 = 0.0\n",
            "x_8_4_2 = 0.0\n",
            "x_8_4_3 = 0.0\n",
            "x_8_4_4 = 0.0\n",
            "x_8_4_5 = 0.0\n",
            "x_8_4_6 = 0.0\n",
            "x_8_4_7 = 0.0\n",
            "x_8_4_8 = 0.0\n",
            "x_8_5_1 = 0.0\n",
            "x_8_5_2 = 0.0\n",
            "x_8_5_3 = 0.0\n",
            "x_8_5_4 = 0.0\n",
            "x_8_5_5 = 0.0\n",
            "x_8_5_6 = 0.0\n",
            "x_8_5_7 = 0.0\n",
            "x_8_5_8 = 0.0\n",
            "x_8_6_1 = 7465.0\n",
            "x_8_6_2 = 12151.0\n",
            "x_8_6_3 = 0.0\n",
            "x_8_6_4 = 0.0\n",
            "x_8_6_5 = 0.0\n",
            "x_8_6_6 = 0.0\n",
            "x_8_6_7 = 0.0\n",
            "x_8_6_8 = 0.0\n",
            "x_8_7_1 = 0.0\n",
            "x_8_7_2 = 0.0\n",
            "x_8_7_3 = 0.0\n",
            "x_8_7_4 = 0.0\n",
            "x_8_7_5 = 0.0\n",
            "x_8_7_6 = 0.0\n",
            "x_8_7_7 = 0.0\n",
            "x_8_7_8 = 0.0\n",
            "x_8_8_1 = 0.0\n",
            "x_8_8_2 = 0.0\n",
            "x_8_8_3 = 0.0\n",
            "x_8_8_4 = 0.0\n",
            "x_8_8_5 = 0.0\n",
            "x_8_8_6 = 0.0\n",
            "x_8_8_7 = 0.0\n",
            "x_8_8_8 = 0.0\n",
            "y_1_1 = 0.0\n",
            "y_1_2 = 0.0\n",
            "y_1_3 = 0.0\n",
            "y_1_4 = 0.0\n",
            "y_1_5 = 0.0\n",
            "y_1_6 = 1.0\n",
            "y_1_7 = 0.0\n",
            "y_1_8 = 0.0\n",
            "y_2_1 = 0.0\n",
            "y_2_2 = 0.0\n",
            "y_2_3 = 0.0\n",
            "y_2_4 = 1.0\n",
            "y_2_5 = 0.0\n",
            "y_2_6 = 1.0\n",
            "y_2_7 = 0.0\n",
            "y_2_8 = 0.0\n",
            "y_3_1 = 0.0\n",
            "y_3_2 = 0.0\n",
            "y_3_3 = 0.0\n",
            "y_3_4 = 0.0\n",
            "y_3_5 = 0.0\n",
            "y_3_6 = 0.0\n",
            "y_3_7 = 0.0\n",
            "y_3_8 = 0.0\n",
            "y_4_1 = 0.0\n",
            "y_4_2 = 0.0\n",
            "y_4_3 = 0.0\n",
            "y_4_4 = 0.0\n",
            "y_4_5 = 0.0\n",
            "y_4_6 = 0.0\n",
            "y_4_7 = 0.0\n",
            "y_4_8 = 0.0\n",
            "y_5_1 = 0.0\n",
            "y_5_2 = 0.0\n",
            "y_5_3 = 0.0\n",
            "y_5_4 = 0.0\n",
            "y_5_5 = 0.0\n",
            "y_5_6 = 0.0\n",
            "y_5_7 = 0.0\n",
            "y_5_8 = 0.0\n",
            "y_6_1 = 0.0\n",
            "y_6_2 = 0.0\n",
            "y_6_3 = 0.0\n",
            "y_6_4 = 0.0\n",
            "y_6_5 = 0.0\n",
            "y_6_6 = 0.0\n",
            "y_6_7 = 0.0\n",
            "y_6_8 = 0.0\n",
            "y_7_1 = 0.0\n",
            "y_7_2 = 0.0\n",
            "y_7_3 = 0.0\n",
            "y_7_4 = 0.0\n",
            "y_7_5 = 0.0\n",
            "y_7_6 = 0.0\n",
            "y_7_7 = 0.0\n",
            "y_7_8 = 0.0\n",
            "y_8_1 = 0.0\n",
            "y_8_2 = 0.0\n",
            "y_8_3 = 0.0\n",
            "y_8_4 = 0.0\n",
            "y_8_5 = 0.0\n",
            "y_8_6 = 0.0\n",
            "y_8_7 = 0.0\n",
            "y_8_8 = 0.0\n",
            "z_1_1 = 1.0\n",
            "z_1_2 = 0.0\n",
            "z_1_3 = 0.0\n",
            "z_1_4 = 0.0\n",
            "z_1_5 = 0.0\n",
            "z_1_6 = 0.0\n",
            "z_1_7 = 0.0\n",
            "z_1_8 = 0.0\n",
            "z_2_1 = 0.0\n",
            "z_2_2 = 1.0\n",
            "z_2_3 = 0.0\n",
            "z_2_4 = 0.0\n",
            "z_2_5 = 0.0\n",
            "z_2_6 = 0.0\n",
            "z_2_7 = 0.0\n",
            "z_2_8 = 0.0\n",
            "z_3_1 = 0.0\n",
            "z_3_2 = 1.0\n",
            "z_3_3 = 0.0\n",
            "z_3_4 = 0.0\n",
            "z_3_5 = 0.0\n",
            "z_3_6 = 0.0\n",
            "z_3_7 = 0.0\n",
            "z_3_8 = 0.0\n",
            "z_4_1 = 0.0\n",
            "z_4_2 = 0.0\n",
            "z_4_3 = 0.0\n",
            "z_4_4 = 1.0\n",
            "z_4_5 = 0.0\n",
            "z_4_6 = 0.0\n",
            "z_4_7 = 0.0\n",
            "z_4_8 = 0.0\n",
            "z_5_1 = 1.0\n",
            "z_5_2 = 0.0\n",
            "z_5_3 = 0.0\n",
            "z_5_4 = 0.0\n",
            "z_5_5 = 0.0\n",
            "z_5_6 = 0.0\n",
            "z_5_7 = 0.0\n",
            "z_5_8 = 0.0\n",
            "z_6_1 = 0.0\n",
            "z_6_2 = 0.0\n",
            "z_6_3 = 0.0\n",
            "z_6_4 = 0.0\n",
            "z_6_5 = 0.0\n",
            "z_6_6 = 1.0\n",
            "z_6_7 = 0.0\n",
            "z_6_8 = 0.0\n",
            "z_7_1 = 0.0\n",
            "z_7_2 = 1.0\n",
            "z_7_3 = 0.0\n",
            "z_7_4 = 0.0\n",
            "z_7_5 = 0.0\n",
            "z_7_6 = 0.0\n",
            "z_7_7 = 0.0\n",
            "z_7_8 = 0.0\n",
            "z_8_1 = 0.0\n",
            "z_8_2 = 0.0\n",
            "z_8_3 = 0.0\n",
            "z_8_4 = 0.0\n",
            "z_8_5 = 0.0\n",
            "z_8_6 = 1.0\n",
            "z_8_7 = 0.0\n",
            "z_8_8 = 0.0\n",
            "\n",
            "Objective value HUB Network Optimization Problem =  6794788.65\n"
          ]
        }
      ]
    }
  ]
}